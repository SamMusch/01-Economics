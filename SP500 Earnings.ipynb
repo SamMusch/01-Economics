{
 "cells": [
  {
   "cell_type": "code",
   "execution_count": 1,
   "id": "19f45548",
   "metadata": {},
   "outputs": [],
   "source": [
    "from io import BytesIO\n",
    "import requests\n",
    "import time\n",
    "import pandas as pd\n",
    "import schedule\n",
    "import time\n",
    "pd.set_option('display.max_columns', None)\n",
    "\n",
    "API_KEY = \"GVOBST0CZ3HTK3Y2\"\n",
    "BASE_URL = r\"https://www.alphavantage.co/query?\""
   ]
  },
  {
   "cell_type": "code",
   "execution_count": 2,
   "id": "96511f93",
   "metadata": {},
   "outputs": [],
   "source": [
    "sp500 = pd.read_html('https://en.wikipedia.org/wiki/List_of_S%26P_500_companies')[0][['Symbol', 'GICS Sector', 'GICS Sub-Industry']]"
   ]
  },
  {
   "cell_type": "code",
   "execution_count": 12,
   "id": "58d6c077",
   "metadata": {},
   "outputs": [],
   "source": [
    "# Earnings\n",
    "def earnings_history_api(symbol):\n",
    "    api_key = \"GVOBST0CZ3HTK3Y2\"\n",
    "    earn = pd.DataFrame()\n",
    "    income = pd.DataFrame()\n",
    "    bal = pd.DataFrame()\n",
    "    \n",
    "    assert symbol is not None\n",
    "    symbol = symbol.strip().upper()\n",
    "    \n",
    "    # Earn\n",
    "    url = f\"{BASE_URL}function=EARNINGS&symbol={symbol}&apikey={api_key}\"\n",
    "    response = requests.get(url)\n",
    "    earn_output = response.json()\n",
    "    earn = pd.DataFrame(earn_output['quarterlyEarnings'])\n",
    "    earn['Symbol'] = symbol\n",
    "    #earn = earn[earn['fiscalDateEnding'] > '2014-01-01']\n",
    "    \n",
    "    # Income\n",
    "    url2 = f\"{BASE_URL}function=INCOME_STATEMENT&symbol={symbol}&apikey={api_key}\"\n",
    "    response2 = requests.get(url2)\n",
    "    income_output = response2.json()\n",
    "    income = pd.DataFrame(income_output['quarterlyReports'])\n",
    "    income['Symbol'] = symbol\n",
    "    income = income.drop(columns=['reportedCurrency'])\n",
    "    #income = income[income['fiscalDateEnding'] > '2014-01-01']\n",
    "    \n",
    "    # Bal\n",
    "    url3 = f\"{BASE_URL}function=BALANCE_SHEET&symbol={symbol}&apikey={api_key}\"\n",
    "    response3 = requests.get(url3)\n",
    "    bal_output = response3.json()\n",
    "    bal = pd.DataFrame(bal_output['quarterlyReports'])\n",
    "    bal['Symbol'] = symbol\n",
    "    bal = bal.drop(columns=['reportedCurrency'])\n",
    "    #bal = bal[bal['fiscalDateEnding'] > '2014-01-01']\n",
    "    \n",
    "    # Cashflow\n",
    "    url4 = f\"{BASE_URL}function=CASH_FLOW&symbol={symbol}&apikey={api_key}\"\n",
    "    response4 = requests.get(url4)\n",
    "    cash_output = response4.json()\n",
    "    cash = pd.DataFrame(cash_output['quarterlyReports'])\n",
    "    cash['Symbol'] = symbol\n",
    "    cash = cash.drop(columns=['reportedCurrency'])\n",
    "    #cash = cash[cash['fiscalDateEnding'] > '2014-01-01']\n",
    "    \n",
    "    \n",
    "    # Overview\n",
    "    url = f\"{BASE_URL}function=OVERVIEW&symbol={symbol}&apikey={api_key}\"\n",
    "    response = requests.get(url)\n",
    "    over = pd.DataFrame(response.json(), index=[0])\n",
    "    \n",
    "    df = over.merge(earn, how='inner', on='Symbol') \\\n",
    "    .merge(income, how='inner', on=['Symbol', 'fiscalDateEnding']) \\\n",
    "    .merge(bal, how='inner', on=['Symbol', 'fiscalDateEnding']) \\\n",
    "    .merge(cash, how='inner', on=['Symbol', 'fiscalDateEnding'])\n",
    "    \n",
    "    earn = pd.DataFrame()\n",
    "    income = pd.DataFrame()\n",
    "    bal = pd.DataFrame()\n",
    "    cash = pd.DataFrame()\n",
    "    \n",
    "    time.sleep(61)\n",
    "    return df # earn, income, bal, over,"
   ]
  },
  {
   "cell_type": "code",
   "execution_count": 13,
   "id": "951e63a1",
   "metadata": {},
   "outputs": [],
   "source": [
    "#all_companies = sp500['Symbol'].head(2).to_list()\n",
    "# 'AAPL','MSFT','GOOG','GOOGL','AMZN','TSLA',\n",
    "all_companies = ['FB','NVDA','BRK.B','JPM','UNH','V','JNJ','HD','WMT','PG','BAC','MA','PFE','DIS','AVGO','XOM','ACN','CSCO','NFLX']\n",
    "all_companies = ['IBM']\n",
    "results = pd.DataFrame()"
   ]
  },
  {
   "cell_type": "code",
   "execution_count": 14,
   "id": "ea343d8a",
   "metadata": {},
   "outputs": [],
   "source": [
    "for i in all_companies:\n",
    "    results = results.append(earnings_history_api(i))"
   ]
  },
  {
   "cell_type": "code",
   "execution_count": 16,
   "id": "6ed315a0",
   "metadata": {},
   "outputs": [],
   "source": [
    "results.to_csv('IBM.csv')"
   ]
  }
 ],
 "metadata": {
  "kernelspec": {
   "display_name": "Python 3",
   "language": "python",
   "name": "python3"
  },
  "language_info": {
   "codemirror_mode": {
    "name": "ipython",
    "version": 3
   },
   "file_extension": ".py",
   "mimetype": "text/x-python",
   "name": "python",
   "nbconvert_exporter": "python",
   "pygments_lexer": "ipython3",
   "version": "3.8.8"
  },
  "toc": {
   "base_numbering": 1,
   "nav_menu": {},
   "number_sections": true,
   "sideBar": true,
   "skip_h1_title": false,
   "title_cell": "Table of Contents",
   "title_sidebar": "Contents",
   "toc_cell": false,
   "toc_position": {},
   "toc_section_display": true,
   "toc_window_display": false
  }
 },
 "nbformat": 4,
 "nbformat_minor": 5
}
