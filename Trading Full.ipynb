{
 "cells": [
  {
   "cell_type": "code",
   "execution_count": 39,
   "id": "5003f27d",
   "metadata": {},
   "outputs": [],
   "source": [
    "import pandas as pd\n",
    "import numpy as np\n",
    "from datetime import datetime, time, tzinfo, timedelta"
   ]
  },
  {
   "cell_type": "markdown",
   "id": "07912acb",
   "metadata": {},
   "source": [
    "# Data"
   ]
  },
  {
   "cell_type": "markdown",
   "id": "3cbe0a6f",
   "metadata": {},
   "source": [
    "## Trading"
   ]
  },
  {
   "cell_type": "markdown",
   "id": "d5d2b887",
   "metadata": {},
   "source": [
    "### Price"
   ]
  },
  {
   "cell_type": "code",
   "execution_count": 47,
   "id": "597268f9",
   "metadata": {},
   "outputs": [
    {
     "name": "stdout",
     "output_type": "stream",
     "text": [
      "[*********************100%***********************]  2 of 2 completed\n"
     ]
    }
   ],
   "source": [
    "# Use for multiple tickers\n",
    "\n",
    "#tickerStrings = ['AAPL', 'NVDA']\n",
    "#df = yf.download(tickerStrings, group_by='Ticker', period='400d')\n",
    "#df = df.stack(level=0).rename_axis(['Date', 'Ticker']).reset_index(level=1)"
   ]
  },
  {
   "cell_type": "code",
   "execution_count": null,
   "id": "050f28cf",
   "metadata": {},
   "outputs": [],
   "source": []
  },
  {
   "cell_type": "code",
   "execution_count": 40,
   "id": "7a2ceb2d",
   "metadata": {},
   "outputs": [],
   "source": [
    "# https://github.com/ranaroussi/yfinance\n",
    "import yfinance as yf\n",
    "nvda = yf.Ticker(\"NVDA\")\n",
    "\n",
    "period_to_use = '1y'     # 1d,5d,1mo,3mo,6mo,1y,2y,5y,10y,ytd,max\n",
    "interval_to_use = '1h'   # 1m,2m,5m,15m,30m,60m,90m,1h,1d,5d,1wk,1mo,3mo\n",
    "\n",
    "quarters = nvda.quarterly_financials.T\n",
    "balance = nvda.quarterly_balance_sheet.T\n",
    "calendar = nvda.calendar.T\n",
    "df = nvda.history(period = period_to_use, interval=interval_to_use)"
   ]
  },
  {
   "cell_type": "code",
   "execution_count": 41,
   "id": "8f558ac2",
   "metadata": {},
   "outputs": [],
   "source": [
    "spy = yf.Ticker(\"SPY\")\n",
    "spy = spy.history(period = period_to_use, interval=interval_to_use)\n",
    "spy['spy_returns'] = np.log(spy['Close']).diff()"
   ]
  },
  {
   "cell_type": "code",
   "execution_count": 42,
   "id": "6c9a892c",
   "metadata": {},
   "outputs": [],
   "source": [
    "df = pd.concat([df, spy['spy_returns']], axis=1)\n",
    "df['Higher_Close'] = df['Close'] > df['Open']\n",
    "df.drop(columns = ['Dividends', 'Stock Splits'], inplace=True)"
   ]
  },
  {
   "cell_type": "code",
   "execution_count": 53,
   "id": "eab5c3d2",
   "metadata": {},
   "outputs": [],
   "source": [
    "df = df.dropna()"
   ]
  },
  {
   "cell_type": "code",
   "execution_count": null,
   "id": "4feab63f",
   "metadata": {},
   "outputs": [],
   "source": []
  },
  {
   "cell_type": "code",
   "execution_count": null,
   "id": "606c5c92",
   "metadata": {},
   "outputs": [],
   "source": []
  },
  {
   "cell_type": "code",
   "execution_count": null,
   "id": "060673a3",
   "metadata": {},
   "outputs": [],
   "source": []
  },
  {
   "cell_type": "markdown",
   "id": "72da9035",
   "metadata": {},
   "source": [
    "### Allocations"
   ]
  },
  {
   "cell_type": "code",
   "execution_count": null,
   "id": "814fe053",
   "metadata": {},
   "outputs": [],
   "source": []
  },
  {
   "cell_type": "markdown",
   "id": "2c567977",
   "metadata": {},
   "source": [
    "### News"
   ]
  },
  {
   "cell_type": "code",
   "execution_count": null,
   "id": "f7b1705b",
   "metadata": {},
   "outputs": [],
   "source": []
  },
  {
   "cell_type": "markdown",
   "id": "08f42b36",
   "metadata": {},
   "source": [
    "## Macro"
   ]
  },
  {
   "cell_type": "code",
   "execution_count": 26,
   "id": "a946bc35",
   "metadata": {},
   "outputs": [],
   "source": [
    "# https://github.com/areed1192/python-bureau-economic-analysis-api-client\n",
    "import pybea\n",
    "from pprint import pprint\n",
    "from pybea.client import BureauEconomicAnalysisClient\n",
    "\n",
    "# Initalize the new Client.\n",
    "bea_client = BureauEconomicAnalysisClient(api_key=USER_ID)\n",
    "\n",
    "# Grab the Dataset List.\n",
    "dataset_list = bea_client.get_dataset_list()\n",
    "\n",
    "USER_ID = '87FC75DA-90CD-4A77-B3EB-9A2A7932C213'"
   ]
  },
  {
   "cell_type": "code",
   "execution_count": 25,
   "id": "4e2ca8d3",
   "metadata": {},
   "outputs": [
    {
     "name": "stdout",
     "output_type": "stream",
     "text": [
      "https://apps.bea.gov/api/data/?UserID=87FC75DA-90CD-4A77-B3EB-9A2A7932C213&method=GETDATASETLIST&ResultFormat=JSON\n",
      "{'Dataset': [{'DatasetDescription': 'Standard NIPA tables',\n",
      "              'DatasetName': 'NIPA'},\n",
      "             {'DatasetDescription': 'Standard NI underlying detail tables',\n",
      "              'DatasetName': 'NIUnderlyingDetail'},\n",
      "             {'DatasetDescription': 'Multinational Enterprises',\n",
      "              'DatasetName': 'MNE'},\n",
      "             {'DatasetDescription': 'Standard Fixed Assets tables',\n",
      "              'DatasetName': 'FixedAssets'},\n",
      "             {'DatasetDescription': 'International Transactions Accounts',\n",
      "              'DatasetName': 'ITA'},\n",
      "             {'DatasetDescription': 'International Investment Position',\n",
      "              'DatasetName': 'IIP'},\n",
      "             {'DatasetDescription': 'Input-Output Data',\n",
      "              'DatasetName': 'InputOutput'},\n",
      "             {'DatasetDescription': 'International Services Trade',\n",
      "              'DatasetName': 'IntlServTrade'},\n",
      "             {'DatasetDescription': 'GDP by Industry',\n",
      "              'DatasetName': 'GDPbyIndustry'},\n",
      "             {'DatasetDescription': 'Regional data sets',\n",
      "              'DatasetName': 'Regional'},\n",
      "             {'DatasetDescription': 'Underlying GDP by Industry',\n",
      "              'DatasetName': 'UnderlyingGDPbyIndustry'},\n",
      "             {'DatasetDescription': 'Metadata about other API datasets',\n",
      "              'DatasetName': 'APIDatasetMetaData'}]}\n"
     ]
    }
   ],
   "source": [
    "pprint(dataset_list['BEAAPI']['Results'])"
   ]
  },
  {
   "cell_type": "markdown",
   "id": "ff702179",
   "metadata": {},
   "source": [
    "### GDP"
   ]
  },
  {
   "cell_type": "code",
   "execution_count": 65,
   "id": "bcbe6970",
   "metadata": {},
   "outputs": [
    {
     "name": "stdout",
     "output_type": "stream",
     "text": [
      "https://apps.bea.gov/api/data/?userid=87FC75DA-90CD-4A77-B3EB-9A2A7932C213&method=GetData&datasetname=underlyingGDPbyIndustry&year=2019&resultformat=JSON&industry=ALL&frequency=A&tableid=ALL\n"
     ]
    }
   ],
   "source": [
    "# Quarterly Value Added by Industry data for all industries for years 2012 and 2013.\n",
    "underlying_gdp_by_industry = bea_client.underlying_gdp_by_industry(\n",
    "    industry='ALL',\n",
    "    frequency=['A'],\n",
    "    year=['2019'],\n",
    "    table_id='ALL'\n",
    ")\n",
    "gdp = pd.DataFrame(underlying_gdp_by_industry['BEAAPI']['Results'][0]['Data'])"
   ]
  },
  {
   "cell_type": "code",
   "execution_count": 67,
   "id": "d4be8fee",
   "metadata": {},
   "outputs": [
    {
     "data": {
      "text/html": [
       "<div>\n",
       "<style scoped>\n",
       "    .dataframe tbody tr th:only-of-type {\n",
       "        vertical-align: middle;\n",
       "    }\n",
       "\n",
       "    .dataframe tbody tr th {\n",
       "        vertical-align: top;\n",
       "    }\n",
       "\n",
       "    .dataframe thead th {\n",
       "        text-align: right;\n",
       "    }\n",
       "</style>\n",
       "<table border=\"1\" class=\"dataframe\">\n",
       "  <thead>\n",
       "    <tr style=\"text-align: right;\">\n",
       "      <th></th>\n",
       "      <th>TableID</th>\n",
       "      <th>Frequency</th>\n",
       "      <th>Year</th>\n",
       "      <th>Industry</th>\n",
       "      <th>IndustrYDescription</th>\n",
       "      <th>DataValue</th>\n",
       "      <th>NoteRef</th>\n",
       "    </tr>\n",
       "  </thead>\n",
       "  <tbody>\n",
       "    <tr>\n",
       "      <th>0</th>\n",
       "      <td>210</td>\n",
       "      <td>A</td>\n",
       "      <td>2019</td>\n",
       "      <td>11</td>\n",
       "      <td>Agriculture, forestry, fishing, and hunting</td>\n",
       "      <td>175.4</td>\n",
       "      <td>210</td>\n",
       "    </tr>\n",
       "    <tr>\n",
       "      <th>1</th>\n",
       "      <td>210</td>\n",
       "      <td>A</td>\n",
       "      <td>2019</td>\n",
       "      <td>111</td>\n",
       "      <td>Crop production</td>\n",
       "      <td>71.4</td>\n",
       "      <td>210</td>\n",
       "    </tr>\n",
       "    <tr>\n",
       "      <th>2</th>\n",
       "      <td>210</td>\n",
       "      <td>A</td>\n",
       "      <td>2019</td>\n",
       "      <td>111CA</td>\n",
       "      <td>Farms</td>\n",
       "      <td>136.1</td>\n",
       "      <td>210</td>\n",
       "    </tr>\n",
       "    <tr>\n",
       "      <th>3</th>\n",
       "      <td>210</td>\n",
       "      <td>A</td>\n",
       "      <td>2019</td>\n",
       "      <td>112</td>\n",
       "      <td>Animal production and aquaculture</td>\n",
       "      <td>64.6</td>\n",
       "      <td>210</td>\n",
       "    </tr>\n",
       "    <tr>\n",
       "      <th>4</th>\n",
       "      <td>210</td>\n",
       "      <td>A</td>\n",
       "      <td>2019</td>\n",
       "      <td>113FF</td>\n",
       "      <td>Forestry, fishing, and related activities</td>\n",
       "      <td>39.3</td>\n",
       "      <td>210</td>\n",
       "    </tr>\n",
       "  </tbody>\n",
       "</table>\n",
       "</div>"
      ],
      "text/plain": [
       "  TableID Frequency  Year Industry  \\\n",
       "0     210         A  2019       11   \n",
       "1     210         A  2019      111   \n",
       "2     210         A  2019    111CA   \n",
       "3     210         A  2019      112   \n",
       "4     210         A  2019    113FF   \n",
       "\n",
       "                           IndustrYDescription DataValue NoteRef  \n",
       "0  Agriculture, forestry, fishing, and hunting     175.4     210  \n",
       "1                              Crop production      71.4     210  \n",
       "2                                        Farms     136.1     210  \n",
       "3            Animal production and aquaculture      64.6     210  \n",
       "4    Forestry, fishing, and related activities      39.3     210  "
      ]
     },
     "execution_count": 67,
     "metadata": {},
     "output_type": "execute_result"
    }
   ],
   "source": [
    "gdp.head()"
   ]
  },
  {
   "cell_type": "code",
   "execution_count": null,
   "id": "76c5748b",
   "metadata": {},
   "outputs": [],
   "source": []
  },
  {
   "cell_type": "code",
   "execution_count": null,
   "id": "5f618a95",
   "metadata": {},
   "outputs": [],
   "source": []
  },
  {
   "cell_type": "code",
   "execution_count": null,
   "id": "53c56ffb",
   "metadata": {},
   "outputs": [],
   "source": []
  },
  {
   "cell_type": "markdown",
   "id": "93291de3",
   "metadata": {},
   "source": [
    "### Employment"
   ]
  },
  {
   "cell_type": "code",
   "execution_count": null,
   "id": "dea7f700",
   "metadata": {},
   "outputs": [],
   "source": []
  },
  {
   "cell_type": "markdown",
   "id": "fcde7f34",
   "metadata": {},
   "source": [
    "### Inflation"
   ]
  },
  {
   "cell_type": "code",
   "execution_count": null,
   "id": "c41f5eff",
   "metadata": {},
   "outputs": [],
   "source": []
  },
  {
   "cell_type": "code",
   "execution_count": null,
   "id": "77cd321b",
   "metadata": {},
   "outputs": [],
   "source": []
  },
  {
   "cell_type": "markdown",
   "id": "092f30a8",
   "metadata": {},
   "source": [
    "# Algorithms"
   ]
  },
  {
   "cell_type": "code",
   "execution_count": 62,
   "id": "f086b750",
   "metadata": {},
   "outputs": [
    {
     "name": "stderr",
     "output_type": "stream",
     "text": [
      "<ipython-input-62-bd120f2e1fe4>:1: SettingWithCopyWarning: \n",
      "A value is trying to be set on a copy of a slice from a DataFrame.\n",
      "Try using .loc[row_indexer,col_indexer] = value instead\n",
      "\n",
      "See the caveats in the documentation: https://pandas.pydata.org/pandas-docs/stable/user_guide/indexing.html#returning-a-view-versus-a-copy\n",
      "  df['fourier'] = np.fft.fft(df['Close'], norm = \"forward\")\n"
     ]
    }
   ],
   "source": [
    "df['fourier'] = np.fft.fft(df['Close'], norm = \"forward\")"
   ]
  },
  {
   "cell_type": "code",
   "execution_count": null,
   "id": "e2deafde",
   "metadata": {},
   "outputs": [],
   "source": [
    "import tensorflow as tf"
   ]
  },
  {
   "cell_type": "code",
   "execution_count": null,
   "id": "a5cc4afd",
   "metadata": {},
   "outputs": [],
   "source": []
  },
  {
   "cell_type": "code",
   "execution_count": null,
   "id": "aa1220e4",
   "metadata": {},
   "outputs": [],
   "source": []
  },
  {
   "cell_type": "code",
   "execution_count": null,
   "id": "93bfe5b4",
   "metadata": {},
   "outputs": [],
   "source": []
  }
 ],
 "metadata": {
  "kernel_info": {
   "name": "python3"
  },
  "kernelspec": {
   "display_name": "Python 3",
   "language": "python",
   "name": "python3"
  },
  "language_info": {
   "codemirror_mode": {
    "name": "ipython",
    "version": 3
   },
   "file_extension": ".py",
   "mimetype": "text/x-python",
   "name": "python",
   "nbconvert_exporter": "python",
   "pygments_lexer": "ipython3",
   "version": "3.8.8"
  },
  "nteract": {
   "version": "0.12.3"
  },
  "toc": {
   "base_numbering": 1,
   "nav_menu": {},
   "number_sections": true,
   "sideBar": true,
   "skip_h1_title": false,
   "title_cell": "Table of Contents",
   "title_sidebar": "Contents",
   "toc_cell": false,
   "toc_position": {},
   "toc_section_display": true,
   "toc_window_display": false
  }
 },
 "nbformat": 4,
 "nbformat_minor": 5
}
