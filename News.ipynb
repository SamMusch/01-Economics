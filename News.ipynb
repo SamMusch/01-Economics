{
 "cells": [
  {
   "cell_type": "code",
   "execution_count": 33,
   "id": "05a441e0",
   "metadata": {},
   "outputs": [],
   "source": [
    "from newsapi import NewsApiClient\n",
    "import requests\n",
    "import json\n",
    "import pandas as pd"
   ]
  },
  {
   "cell_type": "code",
   "execution_count": 2,
   "id": "b44cef4a",
   "metadata": {},
   "outputs": [],
   "source": [
    "api = NewsApiClient(api_key='681373b13d5a40798c22a952b59d5e05')"
   ]
  },
  {
   "cell_type": "code",
   "execution_count": 6,
   "id": "3e0ec293",
   "metadata": {
    "scrolled": true
   },
   "outputs": [],
   "source": [
    "#api.get_sources()\n",
    "# https://github.com/mattlisiv/newsapi-python"
   ]
  },
  {
   "cell_type": "code",
   "execution_count": 15,
   "id": "cd55f90d",
   "metadata": {},
   "outputs": [
    {
     "name": "stdout",
     "output_type": "stream",
     "text": [
      "<bound method Response.json of <Response [200]>>\n"
     ]
    }
   ],
   "source": [
    "url = ('https://newsapi.org/v2/everything?'\n",
    "       'q=Apple&'\n",
    "       'from=2021-08-13&'\n",
    "       'sortBy=popularity&'\n",
    "       'apiKey=681373b13d5a40798c22a952b59d5e05')\n",
    "\n",
    "response = requests.get(url)"
   ]
  },
  {
   "cell_type": "code",
   "execution_count": 108,
   "id": "6791bb4c",
   "metadata": {},
   "outputs": [],
   "source": [
    "data = json.loads(response.text)\n",
    "data_art = data['articles']\n",
    "df = pd.DataFrame(data_art)\n",
    "df['name'] = df['source'].apply(pd.Series)['name']\n",
    "df = df[['name', 'publishedAt', 'author', 'title']]"
   ]
  },
  {
   "cell_type": "code",
   "execution_count": 107,
   "id": "ec69da53",
   "metadata": {},
   "outputs": [
    {
     "data": {
      "text/html": [
       "<div>\n",
       "<style scoped>\n",
       "    .dataframe tbody tr th:only-of-type {\n",
       "        vertical-align: middle;\n",
       "    }\n",
       "\n",
       "    .dataframe tbody tr th {\n",
       "        vertical-align: top;\n",
       "    }\n",
       "\n",
       "    .dataframe thead th {\n",
       "        text-align: right;\n",
       "    }\n",
       "</style>\n",
       "<table border=\"1\" class=\"dataframe\">\n",
       "  <thead>\n",
       "    <tr style=\"text-align: right;\">\n",
       "      <th></th>\n",
       "      <th>name</th>\n",
       "      <th>publishedAt</th>\n",
       "      <th>author</th>\n",
       "      <th>title</th>\n",
       "    </tr>\n",
       "  </thead>\n",
       "  <tbody>\n",
       "    <tr>\n",
       "      <th>0</th>\n",
       "      <td>Engadget</td>\n",
       "      <td>2021-08-13T15:01:21Z</td>\n",
       "      <td>Jon Fingas</td>\n",
       "      <td>Apple acknowledges 'confusion' over child safety updates</td>\n",
       "    </tr>\n",
       "    <tr>\n",
       "      <th>1</th>\n",
       "      <td>Engadget</td>\n",
       "      <td>2021-08-13T11:15:40Z</td>\n",
       "      <td>Daniel Cooper</td>\n",
       "      <td>The Morning After: Understanding Apple’s child safety updates</td>\n",
       "    </tr>\n",
       "    <tr>\n",
       "      <th>2</th>\n",
       "      <td>The Verge</td>\n",
       "      <td>2021-08-13T16:29:38Z</td>\n",
       "      <td>Chaim Gartenberg</td>\n",
       "      <td>Matter’s interoperable smart home standard has been delayed to 2022</td>\n",
       "    </tr>\n",
       "    <tr>\n",
       "      <th>3</th>\n",
       "      <td>TechCrunch</td>\n",
       "      <td>2021-08-13T13:59:50Z</td>\n",
       "      <td>Natasha Mascarenhas</td>\n",
       "      <td>Don’t give your weed dealer all your data</td>\n",
       "    </tr>\n",
       "    <tr>\n",
       "      <th>4</th>\n",
       "      <td>Reuters</td>\n",
       "      <td>2021-08-13T09:25:00Z</td>\n",
       "      <td>Reuters</td>\n",
       "      <td>U.S. House members introduce bill targeting Apple and Google app stores - Reuters</td>\n",
       "    </tr>\n",
       "  </tbody>\n",
       "</table>\n",
       "</div>"
      ],
      "text/plain": [
       "         name           publishedAt               author  \\\n",
       "0    Engadget  2021-08-13T15:01:21Z           Jon Fingas   \n",
       "1    Engadget  2021-08-13T11:15:40Z        Daniel Cooper   \n",
       "2   The Verge  2021-08-13T16:29:38Z     Chaim Gartenberg   \n",
       "3  TechCrunch  2021-08-13T13:59:50Z  Natasha Mascarenhas   \n",
       "4     Reuters  2021-08-13T09:25:00Z              Reuters   \n",
       "\n",
       "                                                                               title  \n",
       "0                           Apple acknowledges 'confusion' over child safety updates  \n",
       "1                      The Morning After: Understanding Apple’s child safety updates  \n",
       "2                Matter’s interoperable smart home standard has been delayed to 2022  \n",
       "3                                          Don’t give your weed dealer all your data  \n",
       "4  U.S. House members introduce bill targeting Apple and Google app stores - Reuters  "
      ]
     },
     "execution_count": 107,
     "metadata": {},
     "output_type": "execute_result"
    }
   ],
   "source": [
    "df.head()"
   ]
  },
  {
   "cell_type": "code",
   "execution_count": null,
   "id": "a579cb2a",
   "metadata": {},
   "outputs": [],
   "source": []
  }
 ],
 "metadata": {
  "kernelspec": {
   "display_name": "Python 3",
   "language": "python",
   "name": "python3"
  },
  "language_info": {
   "codemirror_mode": {
    "name": "ipython",
    "version": 3
   },
   "file_extension": ".py",
   "mimetype": "text/x-python",
   "name": "python",
   "nbconvert_exporter": "python",
   "pygments_lexer": "ipython3",
   "version": "3.8.8"
  },
  "toc": {
   "base_numbering": 1,
   "nav_menu": {},
   "number_sections": true,
   "sideBar": true,
   "skip_h1_title": false,
   "title_cell": "Table of Contents",
   "title_sidebar": "Contents",
   "toc_cell": false,
   "toc_position": {},
   "toc_section_display": true,
   "toc_window_display": false
  }
 },
 "nbformat": 4,
 "nbformat_minor": 5
}
