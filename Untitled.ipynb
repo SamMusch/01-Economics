{
 "cells": [
  {
   "cell_type": "code",
   "execution_count": 1,
   "id": "0c3c6d41",
   "metadata": {},
   "outputs": [
    {
     "data": {
      "text/plain": [
       "Every 1 minute do job() (last run: [never], next run: 2022-04-24 13:06:25)"
      ]
     },
     "execution_count": 1,
     "metadata": {},
     "output_type": "execute_result"
    }
   ],
   "source": [
    "from git import Repo\n",
    "import pandas as pd\n",
    "import schedule\n",
    "import time\n",
    "\n",
    "PATH_OF_GIT_REPO = r'/Users/Sam/01-Economics'  # make sure .git folder is properly configured\n",
    "COMMIT_MESSAGE = 'comment from python script'\n",
    "\n",
    "def job():\n",
    "\n",
    "    def git_push(PATH_OF_GIT_REPO, COMMIT_MESSAGE):\n",
    "        df = pd.DataFrame({'a': [1,2],'b': [3,4]})\n",
    "        df.to_csv('/Users/Sam/01-Economics/CSV Files/Macro_Vars.csv')    \n",
    "        \n",
    "        try:\n",
    "            repo = Repo(PATH_OF_GIT_REPO)\n",
    "            repo.git.add(all=True) # , update=True\n",
    "            repo.index.commit(COMMIT_MESSAGE)\n",
    "            origin = repo.remote(name='origin')\n",
    "            origin.push()\n",
    "        except:\n",
    "            print('Some error occured while pushing the code')    \n",
    "\n",
    "    git_push(PATH_OF_GIT_REPO, COMMIT_MESSAGE)\n",
    "\n",
    "schedule.every().minute.do(job)\n"
   ]
  },
  {
   "cell_type": "code",
   "execution_count": 2,
   "id": "ee9b40a1",
   "metadata": {},
   "outputs": [],
   "source": []
  },
  {
   "cell_type": "code",
   "execution_count": 14,
   "id": "ca8aa4b9",
   "metadata": {},
   "outputs": [],
   "source": []
  },
  {
   "cell_type": "code",
   "execution_count": 11,
   "id": "63f92a02",
   "metadata": {},
   "outputs": [],
   "source": []
  },
  {
   "cell_type": "code",
   "execution_count": 12,
   "id": "be7fccf2",
   "metadata": {},
   "outputs": [],
   "source": []
  },
  {
   "cell_type": "code",
   "execution_count": 18,
   "id": "099ca766",
   "metadata": {},
   "outputs": [],
   "source": []
  },
  {
   "cell_type": "code",
   "execution_count": null,
   "id": "7ce0a5d0",
   "metadata": {},
   "outputs": [],
   "source": []
  }
 ],
 "metadata": {
  "kernelspec": {
   "display_name": "Python 3",
   "language": "python",
   "name": "python3"
  },
  "language_info": {
   "codemirror_mode": {
    "name": "ipython",
    "version": 3
   },
   "file_extension": ".py",
   "mimetype": "text/x-python",
   "name": "python",
   "nbconvert_exporter": "python",
   "pygments_lexer": "ipython3",
   "version": "3.8.8"
  },
  "toc": {
   "base_numbering": 1,
   "nav_menu": {},
   "number_sections": true,
   "sideBar": true,
   "skip_h1_title": false,
   "title_cell": "Table of Contents",
   "title_sidebar": "Contents",
   "toc_cell": false,
   "toc_position": {},
   "toc_section_display": true,
   "toc_window_display": false
  }
 },
 "nbformat": 4,
 "nbformat_minor": 5
}
